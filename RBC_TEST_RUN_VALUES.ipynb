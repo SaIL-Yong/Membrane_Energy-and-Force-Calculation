{
 "cells": [
  {
   "cell_type": "code",
   "execution_count": 1,
   "id": "42ecdcf5",
   "metadata": {},
   "outputs": [],
   "source": [
    "import igl\n",
    "import math\n",
    "import scipy as sp\n",
    "import numpy as np\n",
    "import meshplot as mp\n",
    "import matplotlib.pyplot as plt\n",
    "import sympy\n",
    "import os\n",
    "root_folder = os.getcwd()"
   ]
  },
  {
   "cell_type": "code",
   "execution_count": 2,
   "id": "dd35c941",
   "metadata": {},
   "outputs": [],
   "source": [
    "# v, f = igl.read_triangle_mesh(os.path.join(root_folder, \"rbc.off\"))"
   ]
  },
  {
   "cell_type": "code",
   "execution_count": 3,
   "id": "4bc1cd95",
   "metadata": {},
   "outputs": [
    {
     "data": {
      "application/vnd.jupyter.widget-view+json": {
       "model_id": "791c8d4a1cfb44e6bbada91c3ba50176",
       "version_major": 2,
       "version_minor": 0
      },
      "text/plain": [
       "Renderer(camera=PerspectiveCamera(children=(DirectionalLight(color='white', intensity=0.6, position=(0.0, 0.0,…"
      ]
     },
     "metadata": {},
     "output_type": "display_data"
    },
    {
     "name": "stdout",
     "output_type": "stream",
     "text": [
      "2562\n",
      "5120\n"
     ]
    }
   ],
   "source": [
    "import meshzoo\n",
    "import optimesh\n",
    "v_init,f = meshzoo.icosa_sphere(16)\n",
    "# import trimesh\n",
    "# a=trimesh.creation.icosphere(subdivisions=3, radius=0.8, color=None)\n",
    "# v_init=np.array(a.vertices)\n",
    "# f=np.array(a.faces)\n",
    "\n",
    "# class Sphere:\n",
    "#     def f(self, x):\n",
    "#         return 1.0 - (x[0] ** 2 + x[1] ** 2 + x[2] ** 2)\n",
    "\n",
    "#     def grad(self, x):\n",
    "#         return -2 * x\n",
    "# v_init, f= optimesh.optimize_points_cells(\n",
    "#     points,cells,\"CVT (full)\",1.0e-2,100,verbose=False,implicit_surface=Sphere(),\n",
    "#     # step_filename_format=\"out{:03d}.vtk\"\n",
    "# )\n",
    "mp.jupyter()\n",
    "p=mp.plot(v_init,f,shading={\"wireframe\":True, \"wire_color\": \"black\", #Wireframerendering\n",
    "                               \"width\": 300, \"height\": 300},return_plot=True)\n",
    "        #p.add_lines(v,v+1*FB, shading={\"line_color\": \"red\"})\n",
    "print(len(v_init))\n",
    "print(len(f))"
   ]
  },
  {
   "cell_type": "code",
   "execution_count": 4,
   "id": "e51073c3",
   "metadata": {},
   "outputs": [
    {
     "data": {
      "text/plain": [
       "-1.0"
      ]
     },
     "execution_count": 4,
     "metadata": {},
     "output_type": "execute_result"
    }
   ],
   "source": [
    "x1=v_init[:,0]\n",
    "y1=v_init[:,1]\n",
    "z1=v_init[:,2]\n",
    "min(y1)"
   ]
  },
  {
   "cell_type": "code",
   "execution_count": 5,
   "id": "008180b0",
   "metadata": {},
   "outputs": [],
   "source": [
    "C_0=0.2072\n",
    "C_1=2.0026\n",
    "C_2=-1.1228\n",
    "for i in range(len(x1)):\n",
    "    rho=np.sqrt( (x1[i])**2 + (y1[i])**2 )\n",
    "    if z1[i] >=0:\n",
    "        z1[i]=((np.sqrt(abs((1-rho**2))))/2)*(C_0 +C_1*rho**2+C_2*rho**4)\n",
    "    else:\n",
    "        z1[i]=((np.sqrt(abs((1-rho**2))))/2)*(C_0 +C_1*rho**2+C_2*rho**4)*(-1) \n",
    "# C_0=0.80\n",
    "# C_1=0.80\n",
    "# C_2=1.44\n",
    "# for i in range(len(x1)):\n",
    "#     rho=np.sqrt(abs((1- ((x1[i])/C_0)**2 - ((y1[i])/C_1)**2 )))\n",
    "#     if z1[i] >=0:\n",
    "#         z1[i]=C_2*rho\n",
    "#     else:\n",
    "#         z1[i]=C_2*rho*(-1)  \n",
    "\n"
   ]
  },
  {
   "cell_type": "code",
   "execution_count": 6,
   "id": "a913bd87",
   "metadata": {},
   "outputs": [],
   "source": [
    "v = np.array([x1, y1,z1]).T"
   ]
  },
  {
   "cell_type": "code",
   "execution_count": 8,
   "id": "43780128",
   "metadata": {},
   "outputs": [
    {
     "data": {
      "application/vnd.jupyter.widget-view+json": {
       "model_id": "75365c6405c94adab95db2991fb37e1c",
       "version_major": 2,
       "version_minor": 0
      },
      "text/plain": [
       "Renderer(camera=PerspectiveCamera(children=(DirectionalLight(color='white', intensity=0.6, position=(0.0, 0.0,…"
      ]
     },
     "metadata": {},
     "output_type": "display_data"
    }
   ],
   "source": [
    "##v, f = igl.read_triangle_mesh(os.path.join(root_folder, \"oblate_icosahedron.off\"))\n",
    "p=mp.plot(v,f,shading={\"wireframe\":True, \"wire_color\": \"black\", #Wireframerendering\n",
    "                               \"width\": 300, \"height\": 300},return_plot=True)"
   ]
  },
  {
   "cell_type": "code",
   "execution_count": 9,
   "id": "3882d77d",
   "metadata": {},
   "outputs": [],
   "source": [
    "    npv = igl.per_vertex_normals(v, f)\n",
    "    K = igl.gaussian_curvature(v, f)\n",
    "    l = igl.cotmatrix(v, f) ###laplacian-operator\n",
    "    m = igl.massmatrix(v, f, igl.MASSMATRIX_TYPE_VORONOI)\n",
    "    area_voronoi=m.diagonal()\n",
    "    minv = sp.sparse.diags(1 / m.diagonal())\n",
    "    Hn = -minv.dot(l.dot(v))/2\n",
    "    H_mean = np.linalg.norm(Hn, axis=1)\n",
    "    sign_H = np.sign(np.sum(Hn*npv, axis=1))\n",
    "    #if (min(sign_H)<0):\n",
    "    #    print('H_mean changes sign')\n",
    "    H_mean_signed = H_mean*sign_H\n",
    "    Lap_H = minv.dot(l.dot(H_mean_signed))\n"
   ]
  },
  {
   "cell_type": "code",
   "execution_count": 10,
   "id": "21a98e90",
   "metadata": {},
   "outputs": [],
   "source": [
    "import sympy as sm\n",
    "x,y,z=sm.symbols(\"x y z\")\n",
    "from sympy.vector import CoordSys3D, gradient,divergence,Laplacian"
   ]
  },
  {
   "cell_type": "code",
   "execution_count": 11,
   "id": "6760990f",
   "metadata": {},
   "outputs": [
    {
     "data": {
      "text/latex": [
       "$\\displaystyle \\sqrt{- x^{2} - y^{2} + 1} \\cdot \\left(1.0013 x^{2} + 1.0013 y^{2} - 0.5614 \\left(x^{2} + y^{2}\\right)^{2} + 0.1036\\right)$"
      ],
      "text/plain": [
       "sqrt(-x**2 - y**2 + 1)*(1.0013*x**2 + 1.0013*y**2 - 0.5614*(x**2 + y**2)**2 + 0.1036)"
      ]
     },
     "execution_count": 11,
     "metadata": {},
     "output_type": "execute_result"
    }
   ],
   "source": [
    "rho=sm.sqrt(x**2 + y**2)\n",
    "expression=((sm.sqrt(1-rho**2)/2)*(C_0+(C_1*rho**2)+ C_2*rho**4))\n",
    "# simplify(rho)\n",
    "#expression= (x**2 + y**2 +z**2 -1)\n",
    "sm.simplify(expression)"
   ]
  },
  {
   "cell_type": "code",
   "execution_count": 12,
   "id": "e101d713",
   "metadata": {},
   "outputs": [],
   "source": [
    "fx=sm.diff(expression,x)\n",
    "fy=sm.diff(expression,y)\n",
    "fz=sm.diff(expression,z)\n",
    "\n",
    "fxx=sm.diff(fx,x)\n",
    "fxy=sm.diff(fx,y)\n",
    "fxz=sm.diff(fx,z)\n",
    "\n",
    "fyx=sm.diff(fy,x)\n",
    "fyy=sm.diff(fy,y)\n",
    "fyz=sm.diff(fy,z)\n",
    "\n",
    "fzx=sm.diff(fz,x)\n",
    "fzy=sm.diff(fz,y)\n",
    "fzz=sm.diff(fz,z)"
   ]
  },
  {
   "cell_type": "code",
   "execution_count": 13,
   "id": "209dc56a",
   "metadata": {},
   "outputs": [],
   "source": [
    "Mean_Curvature=-(((1+fx**2)*fyy)- (2*fx*fy*fxy) + ((1+fy**2)*(fxx)))/(2*(1+ fx**2 + fy**2)**(3/2))"
   ]
  },
  {
   "cell_type": "code",
   "execution_count": 14,
   "id": "bab0078b",
   "metadata": {},
   "outputs": [],
   "source": [
    "# delf= sm.Matrix([[fx, fy, fz]]) ###gradient of explicit function\n",
    "# delf_T=delf.T\n",
    "# Hessian =sm.Matrix([[fxx, fxy, fxz], [fyx, fyy, fyz],[fzx, fzy, fzz]]) ####Hessian Matrix\n",
    "# Trace_Hessian=sm.trace(Hessian)\n",
    "# del_f_mag=sm.sqrt(delf[0]**2 +delf[1]**2+ delf[2]**2) ###Magnitude of Gradient Matrix\n",
    "# AA=delf*Hessian*delf_T\n",
    "# aa=AA.det()\n",
    "# Mean_Curvature=(aa - (((del_f_mag)**2)*Trace_Hessian))/(2*(del_f_mag)**3)\n",
    "# # #Mean_Curvature=(aa - (((del_f_mag)**2)*Trace_Hessian))/(2*(del_f_mag)**3)  \n",
    "# # #sm.simplify(Mean_Curvature)"
   ]
  },
  {
   "cell_type": "raw",
   "id": "0467c3c5",
   "metadata": {},
   "source": [
    "#Mean_Curv_Values=(g.subs(x,x1[0]).subs(y,y1[0]))\n",
    "#Mean_Curvature_Analytical=Mean_Curv_Values.evalf()\n",
    "#print(Mean_Curvature_Analytical)\n",
    "# type(Mean_Curvature_Analytical)\n",
    "# a=sm.sign(Mean_Curvature_Analytical)\n",
    "# print(Mean_Curvature_Analytical*a)\n",
    "# #sm.expand_complex(Mean_Curvature_Analytical*a)\n",
    "# c=Mean_Curvature_Analytical*a\n",
    "# type(c)\n",
    "#Mean_Curvature_Analytical=np.zeros(len(x1))\n",
    "\n",
    "Mean_Curv_Values=(g.subs(x,x1[55]).subs(y,y1[55]))\n",
    "Mean_Curvature_Analytical=Mean_Curv_Values.evalf()\n",
    "Mean_Curvature_Analytical"
   ]
  },
  {
   "cell_type": "code",
   "execution_count": null,
   "id": "ae6ae463",
   "metadata": {},
   "outputs": [],
   "source": [
    "# delf= sm.Matrix([[fx, fy, fz]]) ###gradient of explicit function\n",
    "# delf_T=delf.T\n",
    "# Hessian =sm.Matrix([[fxx, fxy, fxz], [fyx, fyy, fyz],[fzx, fzy, fzz]]) ####Hessian Matrix\n",
    "# Trace_Hessian=sm.trace(Hessian)\n",
    "# del_f_mag=sm.sqrt(delf[0]**2 +delf[1]**2+ delf[2]**2) ###Magnitude of Gradient Matrix\n",
    "# AA=delf*Hessian*delf_T\n",
    "# aa=AA.det()\n",
    "# Mean_Curvature=(aa - (((del_f_mag)**2)*Trace_Hessian))/(2*(del_f_mag)**3)\n",
    "# #Mean_Curvature=(aa - (((del_f_mag)**2)*Trace_Hessian))/(2*(del_f_mag)**3)  \n",
    "# #sm.simplify(Mean_Curvature)"
   ]
  },
  {
   "cell_type": "code",
   "execution_count": 15,
   "id": "8b0f443a",
   "metadata": {},
   "outputs": [],
   "source": [
    "g=(1+ fx**2 + fy**2)\n",
    "Mean_Curvature_x=sm.diff(Mean_Curvature,x)\n",
    "Mean_Curvature_y=sm.diff(Mean_Curvature,y)"
   ]
  },
  {
   "cell_type": "code",
   "execution_count": 16,
   "id": "13ea2651",
   "metadata": {},
   "outputs": [],
   "source": [
    "first_term=(1/sm.sqrt(g))*(((1+fy**2)*Mean_Curvature_x) - (fx*fy*Mean_Curvature_y))\n",
    "second_term=(1/sm.sqrt(g)*(((1+fx**2)*Mean_Curvature_y) - (fx*fy*Mean_Curvature_x)))"
   ]
  },
  {
   "cell_type": "code",
   "execution_count": 17,
   "id": "f494d868",
   "metadata": {},
   "outputs": [],
   "source": [
    "first_term_x=sm.diff(first_term,x)\n",
    "second_term_y=sm.diff(second_term,y)"
   ]
  },
  {
   "cell_type": "code",
   "execution_count": 18,
   "id": "8100a4cb",
   "metadata": {},
   "outputs": [],
   "source": [
    "Laplacian=(1/sm.sqrt(g))*(first_term_x + second_term_y)"
   ]
  },
  {
   "cell_type": "code",
   "execution_count": 19,
   "id": "3cc20bec",
   "metadata": {},
   "outputs": [],
   "source": [
    "Mean_Curvature_Analytical=np.zeros(len(x1))\n",
    "Laplacian_Analytical=np.zeros(len(x1))\n",
    "for i in range(len(x1)):\n",
    "    if (x1[i]**2+y1[i]**2)<1.0 :\n",
    "        Mean_Curv_Values=(Laplacian.subs(x,x1[i]).subs(y,y1[i]))\n",
    "        Laplacian_Analytical[i]=Mean_Curv_Values.evalf()"
   ]
  },
  {
   "cell_type": "code",
   "execution_count": null,
   "id": "ed3d65fd",
   "metadata": {
    "scrolled": false
   },
   "outputs": [],
   "source": [
    "# delf= sm.Matrix([[fx, fy, fz]]) ###gradient of explicit function\n",
    "# delf_T=delf.T\n",
    "# Hessian =sm.Matrix([[fxx, fxy, fxz], [fyx, fyy, fyz],[fzx, fzy, fzz]]) ####Hessian Matrix\n",
    "# Trace_Hessian=sm.trace(Hessian)\n",
    "# del_f_mag=sm.sqrt(delf[0]**2 +delf[1]**2+ delf[2]**2) ###Magnitude of Gradient Matrix\n",
    "# AA=delf*Hessian*delf_T\n",
    "# aa=AA.det()\n",
    "# Mean_Curvature=(aa - (((del_f_mag)**2)*Trace_Hessian))/(2*(del_f_mag)**3)\n",
    "# #Mean_Curvature=(aa - (((del_f_mag)**2)*Trace_Hessian))/(2*(del_f_mag)**3)  \n",
    "# #sm.simplify(Mean_Curvature)"
   ]
  },
  {
   "cell_type": "code",
   "execution_count": 20,
   "id": "597f6190",
   "metadata": {},
   "outputs": [],
   "source": [
    "theta=np.zeros(len(x1))\n",
    "Mean_Curv_A=[]\n",
    "Theta_A=[]\n",
    "Mean_Curv_N=[]\n",
    "Lap_H_A=[]\n",
    "Lap_H_N=[]\n",
    "for i in range(len(x1)):\n",
    "    theta[i]=math.acos(z1[i]/np.sqrt(x1[i]**2 + y1[i]**2 + z1[i]**2 ))\n",
    "    if theta[i]>=0 and theta[i]<=1.57:\n",
    "#         Mean_Curv_A.append(Mean_Curvature_Analytical[i])\n",
    "        Theta_A.append(theta[i])\n",
    "        #Mean_Curv_N.append(H_mean_signed[i])\n",
    "        Mean_Curv_A.append(Mean_Curvature_Analytical[i])\n",
    "        Lap_H_A.append(Lap_H[i])"
   ]
  },
  {
   "cell_type": "code",
   "execution_count": 21,
   "id": "ba45723d",
   "metadata": {},
   "outputs": [
    {
     "data": {
      "image/png": "[encoded data removed]",
      "text/plain": [
       "<Figure size 720x360 with 1 Axes>"
      ]
     },
     "metadata": {
      "needs_background": "light"
     },
     "output_type": "display_data"
    }
   ],
   "source": [
    "import matplotlib.ticker as tck\n",
    "f,ax=plt.subplots(figsize=(10,5))\n",
    "ax.plot((np.array(Theta_A)/np.pi),Mean_Curv_A,'x',label='Analytical')\n",
    "ax.plot((np.array(Theta_A)/np.pi),Lap_H_A,'x',label='Numerical')\n",
    "#ax.plot(np.array(Theta_A)/np.pi,Lap_H_N,'.', label='Number of Triangles=5120')\n",
    "# #plt.legend(loc='upper left')\n",
    "ax.xaxis.set_major_formatter(tck.FormatStrFormatter('%g $\\pi$'))\n",
    "ax.xaxis.set_major_locator(tck.MultipleLocator(base=0.1))\n",
    "plt.title('Analytical Laplacian')\n",
    "plt.xlabel('$ \\Theta $')\n",
    "plt.ylabel('Laplacian')\n",
    "plt.legend()\n",
    "plt.show()"
   ]
  },
  {
   "cell_type": "code",
   "execution_count": null,
   "id": "bfa240cb",
   "metadata": {},
   "outputs": [],
   "source": [
    "# from sympy.vector import CoordSys3D, Laplacian,divergence, gradient\n",
    "# R = CoordSys3D('R')\n",
    "# Mean_Curvature=(Mean_Curvature.subs(x,R.x).subs(y,R.y).subs(z,R.z))\n",
    "# a=gradient(Mean_Curvature)\n",
    "# Laplacian=divergence(a)\n",
    "# G_Values=(g.subs(R.x,2).subs(R.y,2).subs(R.z,2))\n",
    "# lap_Values=G_Values.evalf()\n",
    "# lap_Values\n",
    "# Hx=sm.diff(Mean_Curvature,x)\n",
    "# Hy=sm.diff(Mean_Curvature,y)\n",
    "# Hz=sm.diff(Mean_Curvature,z)\n",
    "# Hx=sm.diff(expression,x)\n",
    "# Hy=sm.diff(expression,y)\n",
    "# Hz=sm.diff(expression,z)\n",
    "\n",
    "# Hxx=sm.diff(Hx,x)\n",
    "# Hyy=sm.diff(Hy,y)\n",
    "# Hzz=sm.diff(Hz,z)\n",
    "\n",
    "# Laplacian=Hxx+Hyy+Hzz"
   ]
  },
  {
   "cell_type": "code",
   "execution_count": null,
   "id": "a9fb0f59",
   "metadata": {},
   "outputs": [],
   "source": [
    "# abs(np.average(Mean_Curvature_Analytical)-np.average(H_mean_signed))/np.max(Mean_Curvature_Analytical)"
   ]
  },
  {
   "cell_type": "code",
   "execution_count": null,
   "id": "9327c665",
   "metadata": {},
   "outputs": [],
   "source": [
    "##igl.write_triangle_mesh(os.path.join(root_folder,\"oblate_finer.off\"), v, f)"
   ]
  },
  {
   "cell_type": "code",
   "execution_count": null,
   "id": "44c6521d",
   "metadata": {},
   "outputs": [],
   "source": [
    "# abs(np.max(Mean_Curvature_Analytical)-np.max(H_mean_signed))/np.max(Mean_Curvature_Analytical)"
   ]
  },
  {
   "cell_type": "code",
   "execution_count": null,
   "id": "631aee0a",
   "metadata": {},
   "outputs": [],
   "source": [
    "# from sympy.vector import CoordSys3D, Laplacian,divergence, gradient\n",
    "# R = CoordSys3D('R')\n",
    "# v =R.x**2*R.y**2*R.z**2\n",
    "# a=gradient(v)\n",
    "# g=divergence(a)\n",
    "# G_Values=(g.subs(R.x,2).subs(R.y,2).subs(R.z,2))\n",
    "# lap_Values=G_Values.evalf()\n",
    "# lap_Values"
   ]
  },
  {
   "cell_type": "code",
   "execution_count": null,
   "id": "77401a70",
   "metadata": {},
   "outputs": [],
   "source": [
    "# plt.plot(Theta_A,Mean_Curv_N_320,'.',Theta_A,Mean_Curv_A,'x',Theta_A,Mean_Curv_N_2000,'<',\n",
    "#          Theta_A,Mean_Curv_N_5120,'o')"
   ]
  },
  {
   "cell_type": "code",
   "execution_count": null,
   "id": "c909723d",
   "metadata": {},
   "outputs": [],
   "source": [
    "Theta_A_320=Theta_A\n",
    "Mean_Curv_N_320=Mean_Curv_N\n",
    "Mean_Curv_A_320=Mean_Curv_A\n",
    "len(Mean_Curv_N_320)"
   ]
  },
  {
   "cell_type": "code",
   "execution_count": null,
   "id": "d307e37a",
   "metadata": {},
   "outputs": [],
   "source": [
    "Theta_A_1280=Theta_A\n",
    "Mean_Curv_N_1280=Mean_Curv_N\n",
    "Mean_Curv_A_1280=Mean_Curv_A\n",
    "len(Mean_Curv_N_1280)"
   ]
  },
  {
   "cell_type": "code",
   "execution_count": null,
   "id": "8a0fa536",
   "metadata": {},
   "outputs": [],
   "source": [
    "Theta_A_5120=Theta_A\n",
    "Mean_Curv_N_5120=Mean_Curv_N\n",
    "Mean_Curv_A_5120=Mean_Curv_A\n",
    "len(Mean_Curv_N_5120)"
   ]
  },
  {
   "cell_type": "code",
   "execution_count": null,
   "id": "fc38496e",
   "metadata": {},
   "outputs": [],
   "source": [
    "import matplotlib.ticker as tck\n",
    "f,ax=plt.subplots(figsize=(10,5))\n",
    "csfont = {'fontname':'Times New Roman'}\n",
    "ax.plot(np.array(X_guck)/np.pi,Y_guck,'--', label='Analytical')\n",
    "ax.plot(np.array(Theta_A_320)/np.pi,Mean_Curv_N_320,'x', label='Number of Triangles=320')\n",
    "ax.plot(np.array(Theta_A_1280)/np.pi,Mean_Curv_N_1280,'<', label='Number of Triangles=1280')\n",
    "ax.plot(np.array(Theta_A_5120)/np.pi,Mean_Curv_N_5120,'.',label='Number of Triangles=5120')\n",
    "\n",
    "ax.xaxis.set_major_formatter(tck.FormatStrFormatter('%g $\\pi$'))\n",
    "ax.xaxis.set_major_locator(tck.MultipleLocator(base=0.1))\n",
    "plt.xticks(fontsize=20,**csfont)\n",
    "plt.yticks(fontsize=20,**csfont)\n",
    "\n",
    "\n",
    "# plt.plot(time,KineticEnergy,'v-', label='Kinetic Energy',color='k')\n",
    "#plt.axis([0, 800, 0, 2])\n",
    "plt.legend(loc='upper left',frameon=False)\n",
    "plt.title('Numerical vs Analytical ',fontsize=16,**csfont)\n",
    "plt.xlabel(r'$\\theta $',fontsize=20,**csfont)\n",
    "plt.ylabel('Mean Curvarue',fontsize=20,**csfont)\n",
    "plt.show()"
   ]
  },
  {
   "cell_type": "code",
   "execution_count": null,
   "id": "8b03e19f",
   "metadata": {},
   "outputs": [],
   "source": [
    "plt.plot(Theta_A_320,Mean_Curv_A_320,'s', label='Number of Triangles=320')\n",
    "plt.plot(Theta_A_1280,Mean_Curv_A_1280,'<', label='Number of Triangles=1280')\n",
    "plt.plot(Theta_A_5120,Mean_Curv_A_5120,'.',label='Number of Triangles=5120')\n",
    "plt.legend(loc='upper left')\n",
    "plt.xlabel('$ \\Theta $')\n",
    "plt.ylabel('Mean Curvarue')\n",
    "plt.show()\n"
   ]
  },
  {
   "cell_type": "code",
   "execution_count": null,
   "id": "e40f87e4",
   "metadata": {},
   "outputs": [],
   "source": [
    "X=[0.007240773454152749,0.27700515012935123,0.4844110579379499,0.6661345885064185,0.934266891531196,\n",
    "1.0316320975036564,1.0681797772439254,1.086401838127689,1.1104645686741268,1.1161436878993232,1.13308162992108,1.1499698641159204,1.1795501634500767,1.2032400852946417,\n",
    "1.2249996865272874,1.2431140471193984,1.2702918014859295,1.3800259717227499,1.477610720597425,1.4627977881763432,\n",
    "1.5109522455015871,1.5221157949632242,1.544343478232666,1.570121128807719]\n",
    "Y=[62.067683349727176,60.63574775782091,55.609996650905686,49.68869245557174,26.135329780304673,14.369196771156638\n",
    ",31.062981432304767,45.05322950261993,22.472950130139978,3.5096925953371,-42.54483698876868,-83.181745062723,-107.11801206201363,-89.06613010835773\n",
    ",-60.629946177153926,-34.90151816817729,3.0139211565187054,43.1629690380188,7.469007692368535,21.920217717499924,\n",
    "   -26.40062024171496,-43.108117729894246,-65.68786968594989,-75.1760911586548]\n",
    "\n",
    "plt.plot(X,Y,'o--')"
   ]
  },
  {
   "cell_type": "code",
   "execution_count": null,
   "id": "e77edc9a",
   "metadata": {},
   "outputs": [],
   "source": [
    "import pandas as pd\n",
    "data = pd.read_csv(\"Mean_Curv_Guckenber.csv\")\n"
   ]
  },
  {
   "cell_type": "code",
   "execution_count": null,
   "id": "bec89a18",
   "metadata": {},
   "outputs": [],
   "source": [
    "X_guck=np.array(data.iloc[:,0])\n",
    "Y_guck=np.array(data.iloc[:,1])"
   ]
  },
  {
   "cell_type": "code",
   "execution_count": null,
   "id": "1b50ad8e",
   "metadata": {},
   "outputs": [],
   "source": [
    "import numpy as np\n",
    "import matplotlib.pyplot as plt\n",
    "\n",
    "def multiple_formatter(denominator=2, number=np.pi, latex='\\pi'):\n",
    "    def gcd(a, b):\n",
    "        while b:\n",
    "            a, b = b, a%b\n",
    "        return a\n",
    "    def _multiple_formatter(x, pos):\n",
    "        den = denominator\n",
    "        num = np.int(np.rint(den*x/number))\n",
    "        com = gcd(num,den)\n",
    "        (num,den) = (int(num/com),int(den/com))\n",
    "        if den==1:\n",
    "            if num==0:\n",
    "                return r'$0$'\n",
    "            if num==1:\n",
    "                return r'$%s$'%latex\n",
    "            elif num==-1:\n",
    "                return r'$-%s$'%latex\n",
    "            else:\n",
    "                return r'$%s%s$'%(num,latex)\n",
    "        else:\n",
    "            if num==1:\n",
    "                return r'$\\frac{%s}{%s}$'%(latex,den)\n",
    "            elif num==-1:\n",
    "                return r'$\\frac{-%s}{%s}$'%(latex,den)\n",
    "            else:\n",
    "                return r'$\\frac{%s%s}{%s}$'%(num,latex,den)\n",
    "    return _multiple_formatter\n",
    "\n",
    "class Multiple:\n",
    "    def __init__(self, denominator=2, number=np.pi, latex='\\pi'):\n",
    "        self.denominator = denominator\n",
    "        self.number = number\n",
    "        self.latex = latex\n",
    "\n",
    "def locator(self):\n",
    "        return plt.MultipleLocator(self.number / self.denominator)\n",
    "def formatter(self):\n",
    "        return plt.FuncFormatter(multiple_formatter(self.denominator, self.number, self.latex))"
   ]
  },
  {
   "cell_type": "code",
   "execution_count": null,
   "id": "1ae511f5",
   "metadata": {},
   "outputs": [],
   "source": [
    "import matplotlib.ticker as tck\n",
    "f,ax=plt.subplots(figsize=(10,5))\n",
    "csfont = {'fontname':'Times New Roman'}\n",
    "\n",
    "ax.plot(np.array(X)/np.pi,Y,'.--',label='Analytical')\n",
    "ax.plot(np.array(Theta_A)/np.pi,Lap_H_N,'o',label='Numerical')\n",
    "plt.legend(loc='upper left')\n",
    "ax.xaxis.set_major_formatter(tck.FormatStrFormatter('%g $\\pi$'))\n",
    "ax.xaxis.set_major_locator(tck.MultipleLocator(base=0.1))\n",
    "\n",
    "plt.legend(loc='upper left')\n",
    "plt.title('Numerical vs Analytical',fontsize=16,**csfont)\n",
    "plt.xlabel(r'$ \\theta $',fontsize=20,**csfont)\n",
    "plt.ylabel('Laplacian of H',fontsize=20,**csfont)\n",
    "plt.xticks(fontsize=16)\n",
    "plt.yticks(fontsize=16)\n",
    "plt.legend(loc='upper left',frameon=False)\n",
    "plt.show()"
   ]
  },
  {
   "cell_type": "code",
   "execution_count": null,
   "id": "019a61e4",
   "metadata": {},
   "outputs": [],
   "source": [
    "plt.plot(Theta_A,Mean_Curv_A,'.', label='Analytic ')\n",
    "plt.plot(X_guck,Y_guck,'.', label='Analytic_Guck')"
   ]
  }
 ],
 "metadata": {
  "kernelspec": {
   "display_name": "Python 3 (ipykernel)",
   "language": "python",
   "name": "python3"
  },
  "language_info": {
   "codemirror_mode": {
    "name": "ipython",
    "version": 3
   },
   "file_extension": ".py",
   "mimetype": "text/x-python",
   "name": "python",
   "nbconvert_exporter": "python",
   "pygments_lexer": "ipython3",
   "version": "3.9.12"
  }
 },
 "nbformat": 4,
 "nbformat_minor": 5
}
